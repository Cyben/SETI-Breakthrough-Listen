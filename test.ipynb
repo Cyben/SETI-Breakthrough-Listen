{
 "cells": [
  {
   "cell_type": "markdown",
   "metadata": {},
   "source": [
    "# **<center>SETI Break through<center>**"
   ]
  },
  {
   "cell_type": "markdown",
   "metadata": {},
   "source": [
    "First of all we have to deal with the required packages.  "
   ]
  },
  {
   "cell_type": "code",
   "execution_count": 172,
   "metadata": {},
   "outputs": [],
   "source": [
    "import os\n",
    "\n",
    "import numpy as np\n",
    "import pandas as pd\n",
    "\n",
    "import matplotlib.pyplot as plt\n",
    "import seaborn as sns\n",
    "\n",
    "from sklearn.model_selection import train_test_split\n",
    "from sklearn.model_selection import cross_val_score\n",
    "from sklearn.model_selection import StratifiedKFold\n",
    "from sklearn.linear_model import LogisticRegression\n",
    "from sklearn.linear_model import SGDClassifier\n",
    "from sklearn.tree import DecisionTreeClassifier\n",
    "from sklearn.neighbors import KNeighborsClassifier\n",
    "from sklearn.discriminant_analysis import LinearDiscriminantAnalysis\n",
    "from sklearn.naive_bayes import GaussianNB\n",
    "from sklearn.svm import SVC\n",
    "\n",
    "from itertools import chain"
   ]
  },
  {
   "cell_type": "markdown",
   "metadata": {},
   "source": [
    "Now we will read our labels and get the data it self."
   ]
  },
  {
   "cell_type": "code",
   "execution_count": 205,
   "metadata": {},
   "outputs": [],
   "source": [
    "nrows=2500\n",
    "train_dir = '/kaggle/input/seti-breakthrough-listen/train'\n",
    "test_dir = '/kaggle/input/seti-breakthrough-listen/test'\n",
    "train_df = pd.read_csv('/kaggle/input/seti-breakthrough-listen/train_labels.csv',nrows=nrows)\n",
    "test_df = pd.read_csv('/kaggle/input/seti-breakthrough-listen/sample_submission.csv',nrows=nrows)"
   ]
  },
  {
   "cell_type": "code",
   "execution_count": 174,
   "metadata": {},
   "outputs": [],
   "source": [
    "def return_filepath(name, folder=train_dir):\n",
    "    path = os.path.join(folder, name[0], f'{name}.npy')\n",
    "    return path"
   ]
  },
  {
   "cell_type": "code",
   "execution_count": 206,
   "metadata": {},
   "outputs": [
    {
     "data": {
      "text/html": [
       "<div>\n",
       "<style scoped>\n",
       "    .dataframe tbody tr th:only-of-type {\n",
       "        vertical-align: middle;\n",
       "    }\n",
       "\n",
       "    .dataframe tbody tr th {\n",
       "        vertical-align: top;\n",
       "    }\n",
       "\n",
       "    .dataframe thead th {\n",
       "        text-align: right;\n",
       "    }\n",
       "</style>\n",
       "<table border=\"1\" class=\"dataframe\">\n",
       "  <thead>\n",
       "    <tr style=\"text-align: right;\">\n",
       "      <th></th>\n",
       "      <th>id</th>\n",
       "      <th>target</th>\n",
       "      <th>image_path</th>\n",
       "    </tr>\n",
       "  </thead>\n",
       "  <tbody>\n",
       "    <tr>\n",
       "      <th>0</th>\n",
       "      <td>0024012d1431fbc</td>\n",
       "      <td>1</td>\n",
       "      <td>./train\\0\\0024012d1431fbc.npy</td>\n",
       "    </tr>\n",
       "    <tr>\n",
       "      <th>1</th>\n",
       "      <td>1004c26b9a3f877</td>\n",
       "      <td>1</td>\n",
       "      <td>./train\\1\\1004c26b9a3f877.npy</td>\n",
       "    </tr>\n",
       "    <tr>\n",
       "      <th>2</th>\n",
       "      <td>0000799a2b2c42d</td>\n",
       "      <td>0</td>\n",
       "      <td>./train\\0\\0000799a2b2c42d.npy</td>\n",
       "    </tr>\n",
       "    <tr>\n",
       "      <th>3</th>\n",
       "      <td>0012ef703e41ef0</td>\n",
       "      <td>0</td>\n",
       "      <td>./train\\0\\0012ef703e41ef0.npy</td>\n",
       "    </tr>\n",
       "    <tr>\n",
       "      <th>4</th>\n",
       "      <td>00042890562ff68</td>\n",
       "      <td>0</td>\n",
       "      <td>./train\\0\\00042890562ff68.npy</td>\n",
       "    </tr>\n",
       "  </tbody>\n",
       "</table>\n",
       "</div>"
      ],
      "text/plain": [
       "                id  target                     image_path\n",
       "0  0024012d1431fbc       1  ./train\\0\\0024012d1431fbc.npy\n",
       "1  1004c26b9a3f877       1  ./train\\1\\1004c26b9a3f877.npy\n",
       "2  0000799a2b2c42d       0  ./train\\0\\0000799a2b2c42d.npy\n",
       "3  0012ef703e41ef0       0  ./train\\0\\0012ef703e41ef0.npy\n",
       "4  00042890562ff68       0  ./train\\0\\00042890562ff68.npy"
      ]
     },
     "execution_count": 206,
     "metadata": {},
     "output_type": "execute_result"
    }
   ],
   "source": [
    "train_df['image_path'] = train_df['id'].apply(lambda x: return_filepath(x))\n",
    "test_df['image_path'] = test_df['id'].apply(lambda x: return_filepath(x, folder=test_dir))\n",
    "train_df.head()"
   ]
  },
  {
   "cell_type": "code",
   "execution_count": 207,
   "metadata": {},
   "outputs": [],
   "source": [
    "train_data = []\n",
    "for train_image_path in train_df['image_path']:\n",
    "    image = (np.load(train_image_path))\n",
    "    \n",
    "    # 1\n",
    "  #  on = np.vstack((image[0],image[2],image[4]))\n",
    "  #  off = np.vstack((image[1], image[3], image[5]))\n",
    "  #  image_merged = np.concatenate((on, off), axis=1).transpose((1, 0))\n",
    "\n",
    "\n",
    "    # 2\n",
    "    image_merged = np.vstack(image).transpose((1, 0))\n",
    "\n",
    "    # 3\n",
    "  #  np.vstack((image[0],image[1],image[2],image[3],image[4],image[5]))\n",
    "\n",
    "    # 4\n",
    "  #  on = np.vstack((image[0],image[2],image[4]))\n",
    "  #  off = np.vstack((image[1], image[3], image[5]))\n",
    "  #  image_merged = np.concatenate((on, off), axis=1))\n",
    "\n",
    "    train_data.append(image_merged.flatten())"
   ]
  },
  {
   "cell_type": "code",
   "execution_count": 177,
   "metadata": {},
   "outputs": [],
   "source": [
    "models = []\n",
    "models.append(('LR', SGDClassifier(loss='log_loss')))\n",
    "models.append(('PT', SGDClassifier(loss='perceptron')))\n",
    "models.append(('SVM', SGDClassifier(loss='hinge')))"
   ]
  },
  {
   "cell_type": "code",
   "execution_count": null,
   "metadata": {},
   "outputs": [],
   "source": [
    "k_folds = 10\n",
    "kf = StratifiedKFold(n_splits=k_folds)\n",
    "\n",
    "model = SGDClassifier()\n",
    "\n",
    "batch_size = nrows\n",
    "\n",
    "if nrows >= 5000:\n",
    "    batch_size = 1000\n",
    "\n",
    "for name, model in models:\n",
    "    fold_scores = []\n",
    "    X_train = []\n",
    "    y_train = []\n",
    "    X_test = []\n",
    "    y_test = []\n",
    "\n",
    "    for train_index, test_index in kf.split(train_data, train_df['target']):\n",
    "\n",
    "        for i in train_index:       \n",
    "            X_train.append(train_data[i])\n",
    "            y_train.append(train_df['target'][i])\n",
    "\n",
    "        for i in test_index:       \n",
    "            X_test.append(train_data[i])\n",
    "            y_test.append(train_df['target'][i])\n",
    "\n",
    "        for i in range(0, len(X_train), batch_size):\n",
    "            X_batch, y_batch = X_train[i:i+batch_size], y_train[i:i+batch_size]\n",
    "            model.partial_fit(X_batch, y_batch, classes=np.unique(train_df['target']))\n",
    "\n",
    "        # Evaluate the model\n",
    "        fold_score = model.score(X_test, y_test)\n",
    "        fold_scores.append(fold_score)\n",
    "\n",
    "    print(\"Cross-validation scores for each fold:\", fold_scores)\n"
   ]
  }
 ],
 "metadata": {
  "kernelspec": {
   "display_name": "Python 3",
   "language": "python",
   "name": "python3"
  },
  "language_info": {
   "codemirror_mode": {
    "name": "ipython",
    "version": 3
   },
   "file_extension": ".py",
   "mimetype": "text/x-python",
   "name": "python",
   "nbconvert_exporter": "python",
   "pygments_lexer": "ipython3",
   "version": "3.7.9"
  },
  "orig_nbformat": 4
 },
 "nbformat": 4,
 "nbformat_minor": 2
}
